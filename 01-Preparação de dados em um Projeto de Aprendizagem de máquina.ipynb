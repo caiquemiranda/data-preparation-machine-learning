{
 "cells": [
  {
   "cell_type": "markdown",
   "metadata": {},
   "source": [
    "01-Preparação de dados em um Projeto de Aprendizagem de máquina"
   ]
  },
  {
   "cell_type": "markdown",
   "metadata": {},
   "source": [
    "A preparação de dados pode ser uma das etapas mais difíceis em qualquer projeto de aprendizado de máquina. O A razão é que cada conjunto de dados é diferente e altamente específico para o projeto. No entanto, existem pontos em comum suficientes entre projetos de modelagem preditiva para que possamos definir uma sequência flexível de etapas e subtarefas que você provavelmente executará. Este processo fornece um contexto no qual podemos pode considerar a preparação de dados necessária para o projeto, informada tanto pela definição do projeto realizado antes da preparação dos dados e avaliação de algoritmos de aprendizado de máquina realizado depois. Neste tutorial, você descobrirá como considerar a preparação de dados como uma etapa um projeto mais amplo de aprendizado de máquina de modelagem preditiva. Depois de concluir este tutorial, você saberá:\n",
    "\n",
    "- Cada projeto de modelagem preditiva com aprendizado de máquina é diferente, mas há etapas comuns executadas em cada projeto.\n",
    "- A preparação de dados envolve melhor expor a estrutura subjacente desconhecida do problema aos algoritmos de aprendizagem.\n",
    "- As etapas antes e depois da preparação de dados num projeto podem informar quais métodos de preparação de dados aplicar, ou pelo menos explorar.\n",
    "\n",
    "Vamos começar."
   ]
  },
  {
   "cell_type": "markdown",
   "metadata": {},
   "source": [
    "1.1 Visão geral do tutorial"
   ]
  },
  {
   "cell_type": "markdown",
   "metadata": {},
   "source": [
    "Este tutorial está dividido em três partes; eles são:\n",
    "\n",
    "1. Processo de aprendizado de máquina aplicado\n",
    "2. O que é preparação de dados\n",
    "3. Como escolher técnicas de preparação de dados"
   ]
  },
  {
   "cell_type": "markdown",
   "metadata": {},
   "source": [
    "1.2 Processo de Aprendizado de Máquina Aplicado"
   ]
  },
  {
   "cell_type": "markdown",
   "metadata": {},
   "source": [
    "Cada projeto de aprendizado de máquina é diferente porque os dados específicos no núcleo do projeto é diferente. Você pode ser a primeira pessoa (de todos os tempos!) a trabalhar na modelagem preditiva específica problema. Isso não significa que outros não tenham trabalhado em tarefas de previsão semelhantes ou talvezaté mesmo a mesma tarefa de alto nível, mas você pode ser o primeiro a usar os dados específicos que possui. coletados (a menos que você esteja usando um conjunto de dados padrão para prática).\n",
    "\n",
    "Isso torna cada projeto de aprendizado de máquina único. Ninguém pode dizer quais são os melhores resultados são ou podem ser, ou quais algoritmos usar para alcançá-los. Você deve estabelecer uma linha de base no desempenho como ponto de referência para comparar todos os seus modelos e você deve descobrir qual algoritmo funciona melhor para seu conjunto de dados específico. Você não está sozinho, e a vasta literatura sobre aprendizado de máquina aplicado que veio antes pode informá-lo sobre as técnicas a serem usadas para avalie robustamente seu modelo e algoritmos para avaliar.\n",
    "\n",
    "Mesmo que seu projeto seja único, os passos no caminho para um bom ou mesmo melhor Os resultados são geralmente os mesmos de projeto para projeto. Isso às vezes é chamado de processo de aprendizado de máquina aplicado, processo de ciência de dados ou o nome antigo descoberta de conhecimento em bancos de dados (KDD). O processo de aprendizado de máquina aplicado consiste em uma sequência de etapas. O as etapas são iguais, mas os nomes das etapas e tarefas executadas podem diferir da descrição para descrição. Além disso, as etapas são escritas sequencialmente, mas iremos para frente e para trás entre as etapas de qualquer projeto. Gosto de definir o processo usando os quatro princípios de alto nível passos:\n",
    "\n",
    "- Etapa 1: Definir o problema.\n",
    "- Etapa 2: Preparar os dados.\n",
    "- Etapa 3: avaliar modelos.\n",
    "- Etapa 4: Finalizar o modelo.\n",
    "\n",
    "Vamos dar uma olhada em cada uma dessas etapas."
   ]
  },
  {
   "cell_type": "markdown",
   "metadata": {},
   "source": [
    "1.2.1 Etapa 1: Definir o Problema"
   ]
  },
  {
   "cell_type": "markdown",
   "metadata": {},
   "source": [
    "Esta etapa se preocupa em aprender o suficiente sobre o projeto para selecionar a moldura ou molduras da tarefa de previsão. Por exemplo, é classificação ou regressão, ou algum outro método de ordem superior? tipo de problema? Envolve a coleta de dados que se acredita serem úteis para fazer uma previsão e definir claramente a forma que a previsão assumirá. Também pode envolver conversar com o projeto partes interessadas e outras pessoas com profundo conhecimento no domínio. Esta etapa também envolve tomar uma análise mais detalhada dos dados, bem como talvez explorar os dados usando estatísticas resumidas e Visualização de dados."
   ]
  },
  {
   "cell_type": "markdown",
   "metadata": {},
   "source": [
    "1.2.2 Etapa 2: Preparar Dados"
   ]
  },
  {
   "cell_type": "markdown",
   "metadata": {},
   "source": [
    "Esta etapa se preocupa em transformar os dados brutos coletados em um formato que possa ser usado na modelagem.\n",
    "\n",
    "Examinaremos mais de perto essa etapa na próxima seção."
   ]
  },
  {
   "cell_type": "markdown",
   "metadata": {},
   "source": [
    "1.2.3 Etapa 3: Avaliar Modelos"
   ]
  },
  {
   "cell_type": "markdown",
   "metadata": {},
   "source": [
    "Esta etapa se preocupa em avaliar modelos de aprendizado de máquina em seu conjunto de dados. Isso exige que você projeta um equipamento de teste robusto usado para avaliar seus modelos para que os resultados obtidos possam ser confiável e usado para selecionar entre os modelos que você avaliou. Isto envolve tarefas como como selecionar uma métrica de desempenho para avaliar a habilidade de um modelo, estabelecendo uma linha de base ou nível de desempenho com o qual todas as avaliações do modelo podem ser comparadas e uma reamostragem técnica para dividir os dados em conjuntos de treinamento e teste para simular como o modelo final irá ser usado.\n",
    "\n",
    "Para estimativas rápidas e sujas do desempenho do modelo, ou para um conjunto de dados muito grande, um único a divisão train-test dos dados pode ser realizada. É mais comum usar validação cruzada k-fold como a técnica de reamostragem de dados, muitas vezes com repetições do processo para melhorar a robustez do o resultado. Esta etapa também envolve tarefas para aproveitar ao máximo modelos de bom desempenho, como como ajuste de hiperparâmetros e conjuntos de modelos."
   ]
  },
  {
   "cell_type": "markdown",
   "metadata": {},
   "source": [
    "1.2.4 Etapa 4: Finalizar Modelo"
   ]
  },
  {
   "cell_type": "markdown",
   "metadata": {},
   "source": [
    "Esta etapa se preocupa em selecionar e usar um modelo final. Uma vez que um conjunto de modelos tenha sido avaliado, deve-se escolher um modelo que represente a solução para o projeto. Isso é chamado seleção de modelo e pode envolver avaliação adicional de modelos candidatos em uma validação de espera conjunto de dados ou seleção por meio de outros critérios específicos do projeto, como complexidade do modelo. Também pode envolvem resumir o desempenho do modelo de uma forma padrão para as partes interessadas do projeto, o que é um passo importante. Finalmente, provavelmente haverá tarefas relacionadas à produção de modelo, como integrá-lo a um projeto de software ou sistema de produção e projetar um cronograma de monitoramento e manutenção do modelo.\n",
    "\n",
    "Agora que estamos familiarizados com o processo de aprendizado de máquina aplicado e onde os dados preparação para esse processo, vamos dar uma olhada mais de perto nos tipos de tarefas que podem ser realizado."
   ]
  },
  {
   "cell_type": "markdown",
   "metadata": {},
   "source": [
    "1.3 O que é preparação de dados"
   ]
  },
  {
   "cell_type": "markdown",
   "metadata": {},
   "source": [
    "Em um projeto de modelagem preditiva, como classificação ou regressão, os dados brutos normalmente não podem ser ser usado diretamente. Isso ocorre por motivos como:\n",
    "\n",
    "- Algoritmos de aprendizado de máquina exigem que os dados sejam números.\n",
    "- Alguns algoritmos de aprendizado de máquina impõem requisitos aos dados.\n",
    "- Poderá ser necessário corrigir ruídos estatísticos e erros nos dados.\n",
    "- Relacionamentos não lineares complexos podem ser extraídos dos dados.\n",
    "\n",
    "Como tal, os dados brutos devem ser pré-processados antes de serem usados para testar e avaliar uma máquina modelo de aprendizagem. Esta etapa em um projeto de modelagem preditiva é chamada de preparação de dados, embora tenha muitos outros nomes, como disputa de dados, limpeza de dados, pré-processamento de dados e engenharia de recursos. Alguns desses nomes podem funcionar melhor como subtarefas para dados mais amplos. processo de preparação. Podemos definir a preparação de dados como a transformação de dados brutos em um forma mais adequada para modelagem.\n",
    "\n",
    "Isso é altamente específico para seus dados, para os objetivos do seu projeto e para os algoritmos que será usado para modelar seus dados. Falaremos mais sobre essas relações na próxima seção. No entanto, existem tarefas comuns ou padrão que você pode usar ou explorar durante a análise de dados. etapa de preparação em um projeto de aprendizado de máquina. Essas tarefas incluem:\n",
    "\n",
    "- Limpeza de Dados: Identificação e correção de falhas ou erros nos dados.\n",
    "- Seleção de recursos: identificar as variáveis de entrada que são mais relevantes para a tarefa.\n",
    "- Transformações de dados: Alteração da escala ou distribuição de variáveis.\n",
    "- Engenharia de recursos: derivando novas variáveis a partir de dados disponíveis.\n",
    "- Redução de Dimensionalidade: Criação de projeções compactas dos dados.\n",
    "\n",
    "Cada uma dessas tarefas é um campo de estudo completo com algoritmos especializados. Vamos dar uma olhada mais de perto veja essas tarefas no Capítulo 3. A preparação de dados não é realizada às cegas. Em alguns casos, variáveis ​​devem ser codificadas ou transformadas antes de podermos aplicar um algoritmo de aprendizado de máquina, como converter strings em números. Em outros casos, é menos claro, por exemplo: dimensionar um variável pode ou não ser útil para um algoritmo.\n",
    "\n",
    "A filosofia mais ampla da preparação de dados é descobrir a melhor forma de expor os dados subjacentes. estrutura do problema para os algoritmos de aprendizagem. Esta é a luz guia. Nós não sabemos a estrutura subjacente do problema; se o fizéssemos, não precisaríamos de um algoritmo de aprendizagem para descobri-lo e aprender como fazer previsões hábeis. Portanto, expor o desconhecido estrutura subjacente do problema é um processo de descoberta, juntamente com a descoberta do bem ou algoritmos de aprendizagem de melhor desempenho para o projeto.\n",
    "\n",
    "Pode ser mais complicado do que parece à primeira vista. Por exemplo, entradas diferentes variáveis podem exigir diferentes métodos de preparação de dados. Além disso, diferentes variáveis ou subconjuntos de variáveis de entrada podem exigir diferentes sequências de métodos de preparação de dados. Isto pode parecer opressor, dado o grande número de métodos, cada um dos quais pode ter seu próprio configuração e requisitos. No entanto, o processo de aprendizado de máquina ocorre antes e depois após a preparação dos dados pode ajudar a informar quais técnicas considerar."
   ]
  },
  {
   "cell_type": "markdown",
   "metadata": {},
   "source": [
    "1.4 Como escolher técnicas de preparação de dados"
   ]
  },
  {
   "cell_type": "markdown",
   "metadata": {},
   "source": [
    "Como sabemos quais técnicas de preparação de dados usar em nossos dados?\n",
    "\n",
    "Superficialmente, esta é uma questão desafiadora, mas se olharmos para a etapa de preparação de dados em contexto de todo o projeto, torna-se mais simples. As etapas de uma previsão projeto de modelagem antes e depois da etapa de preparação de dados informar a preparação de dados que pode ser necessário. A etapa anterior à preparação dos dados envolve a definição do problema. Como parte de Definir o problema pode envolver muitas subtarefas, tais como:\n",
    "\n",
    "- Coletar dados do domínio do problema.\n",
    "- Discutir o projeto com especialistas no assunto.\n",
    "- Selecione as variáveis a serem usadas como entradas e saídas para um modelo preditivo.\n",
    "- Revise os dados que foram coletados.\n",
    "- Resumir os dados recolhidos através de métodos estatísticos.\n",
    "- Visualize os dados coletados usando gráficos e gráficos.\n",
    "\n",
    "As informações conhecidas sobre os dados podem ser usadas na seleção e configuração da preparação de dados. métodos. Por exemplo, gráficos dos dados podem ajudar a identificar se uma variável possui valores discrepantes. Isso pode ajudar nas operações de limpeza de dados. Também pode fornecer informações sobre a probabilidade distribuição subjacente aos dados. Isso pode ajudar a determinar se os dados são transformados que alterar a distribuição de probabilidade de uma variável seria apropriado. Métodos estatísticos, como estatísticas descritivas, podem ser usadas para determinar se as operações de escalonamento podem ser obrigatório. Testes de hipóteses estatísticas podem ser usados para determinar se uma variável corresponde a um\n",
    "dada distribuição de probabilidade.\n",
    "\n",
    "Gráficos pareados e estatísticas podem ser usados para determinar se as variáveis estão relacionadas e se então, quanto, fornecendo informações sobre se uma ou mais variáveis são redundantes ou irrelevantes para a variável de destino. Como tal, pode haver muita interação entre a definição de o problema e a preparação dos dados. Também pode haver interação entre os dados etapa de preparação e avaliação de modelos. A avaliação do modelo pode envolver subtarefas como:\n",
    "\n",
    "- Selecione uma métrica de desempenho para avaliar a habilidade preditiva do modelo.\n",
    "- Selecione um procedimento de avaliação do modelo.\n",
    "- Selecione algoritmos para avaliar.\n",
    "- Ajustar hiperparâmetros do algoritmo.\n",
    "- Combine modelos preditivos em conjuntos.\n",
    "\n",
    "Informações conhecidas sobre a escolha de algoritmos e a descoberta de algoritmos com bom desempenho algoritmos também podem informar a seleção e configuração de métodos de preparação de dados. Para Por exemplo, a escolha de algoritmos pode impor requisitos e expectativas sobre o tipo e forma de variáveis de entrada nos dados. Isso pode exigir que as variáveis tenham uma probabilidade específica distribuição, a remoção de variáveis de entrada correlacionadas e/ou a remoção de variáveis que são não está fortemente relacionado com a variável alvo.\n",
    "\n",
    "A escolha da métrica de desempenho também pode exigir uma preparação cuidadosa da variável alvo para atender às expectativas, como pontuar modelos de regressão baseados em erros de previsão usando uma unidade de medida específica, exigindo a inversão de quaisquer transformações de escala aplicadas a essa variável para modelagem. Esses exemplos, e outros, destacam que, embora a preparação de dados seja uma tarefa passo importante em um projeto de modelagem preditiva, ele não é independente. Em vez disso, é fortemente em influenciado pelas tarefas realizadas antes e depois da preparação dos dados. Isto destaca o natureza altamente iterativa de qualquer projeto de modelagem preditiva."
   ]
  },
  {
   "cell_type": "markdown",
   "metadata": {},
   "source": [
    "1.5 Resumo"
   ]
  },
  {
   "cell_type": "markdown",
   "metadata": {},
   "source": [
    "Neste tutorial, você descobriu como considerar a preparação de dados como uma etapa de uma abordagem preditiva mais ampla. projeto de modelagem de aprendizado de máquina. Especificamente, você aprendeu:\n",
    "\n",
    "- Cada projeto de modelagem preditiva com aprendizado de máquina é diferente, mas existem etapas executadas em cada projeto.\n",
    "- A preparação de dados envolve melhor expor a estrutura subjacente desconhecida do problema para aprender algoritmos.\n",
    "- As etapas antes e depois da preparação de dados em um projeto podem informar qual preparação de dados métodos a serem aplicados, ou pelo menos explorados."
   ]
  }
 ],
 "metadata": {
  "kernelspec": {
   "display_name": "Python 3",
   "language": "python",
   "name": "python3"
  },
  "language_info": {
   "codemirror_mode": {
    "name": "ipython",
    "version": 3
   },
   "file_extension": ".py",
   "mimetype": "text/x-python",
   "name": "python",
   "nbconvert_exporter": "python",
   "pygments_lexer": "ipython3",
   "version": "3.10.5"
  },
  "orig_nbformat": 4
 },
 "nbformat": 4,
 "nbformat_minor": 2
}
