{
 "cells": [
  {
   "cell_type": "markdown",
   "metadata": {},
   "source": [
    "02-Por que a preparação de dados é tão importante"
   ]
  },
  {
   "cell_type": "markdown",
   "metadata": {},
   "source": [
    "Em um projeto de modelagem preditiva, os algoritmos de aprendizado de máquina aprendem um mapeamento a partir da entrada variáveis para uma variável de destino. A forma mais comum de projeto de modelagem preditiva envolve os chamados dados estruturados ou dados tabulares. São dados como aparecem em uma planilha ou matriz, com linhas de exemplos e colunas de recursos para cada exemplo. Não podemos avaliar algoritmos de aprendizado de máquina em dados brutos; em vez disso, devemos transformar os dados para atender às requisitos de algoritmos individuais de aprendizado de máquina. Mais do que isso, devemos escolher um representação para os dados que melhor expõem a estrutura subjacente desconhecida da previsão problema para os algoritmos de aprendizagem, a fim de obter o melhor desempenho dado o nosso disponível recursos em um projeto de modelagem preditiva.\n",
    "\n",
    "Dado que temos implementações padrão de aprendizado de máquina altamente parametrizado algoritmos em bibliotecas de código aberto, ajustar modelos tornou-se rotina. Como tal, o mais parte desafiadora de cada projeto de modelagem preditiva é como preparar aquilo que é exclusivo do projeto: os dados usados para modelagem. Neste tutorial você descobrirá o importância da preparação de dados para cada projeto de aprendizado de máquina. Depois de concluir este tutorial,\n",
    "você saberá:\n",
    "\n",
    "Os dados estruturados em aprendizado de máquina consistem em linhas e colunas. A preparação de dados é uma etapa obrigatória em cada projeto de aprendizado de máquina. A rotina dos algoritmos de aprendizado de máquina significa a maior parte do esforço em cada projeto é gasto na preparação de dados.\n",
    "\n",
    "Vamos começar."
   ]
  },
  {
   "cell_type": "markdown",
   "metadata": {},
   "source": [
    "2.1 Visão geral do tutorial"
   ]
  },
  {
   "cell_type": "markdown",
   "metadata": {},
   "source": [
    "Este tutorial está dividido em três partes; eles são:\n",
    "\n",
    "1. O que são dados em aprendizado de máquina\n",
    "2. Os dados brutos devem ser preparados\n",
    "3. A modelagem preditiva envolve principalmente preparação de dados"
   ]
  },
  {
   "cell_type": "markdown",
   "metadata": {},
   "source": [
    "2.2 O que são dados em aprendizado de máquina"
   ]
  },
  {
   "cell_type": "markdown",
   "metadata": {},
   "source": [
    "Projetos de modelagem preditiva envolvem aprendizado com dados. Os dados referem-se a exemplos ou casos de o domínio que caracteriza o problema que você deseja resolver. Na aprendizagem supervisionada, os dados são composto por exemplos onde cada exemplo possui um elemento de entrada que será fornecido a um modelo e um elemento de saída ou alvo que se espera que o modelo preveja.\n",
    "\n",
    "A classificação é um exemplo de problema de aprendizagem supervisionada onde o alvo é um rótulo, e a regressão é um exemplo de problema de aprendizagem supervisionada em que o alvo é um número. O os dados de entrada podem ter vários formatos, como imagem, série temporal, texto, vídeo e assim por diante. O O tipo mais comum de dados de entrada é normalmente referido como dados tabulares ou dados estruturados. Esse são dados como você pode vê-los em uma planilha, em um banco de dados ou em uma variável separada por vírgula (CSV) arquivo. Este é o tipo de dados em que nos concentraremos.\n",
    "\n",
    "Pense em uma grande tabela de dados. Na álgebra linear, nos referimos a esta tabela de dados como uma matriz. A tabela é composta por linhas e colunas. Uma linha representa um exemplo do problema domínio e pode ser referido como um exemplo, uma instância ou um caso. Uma coluna representa as propriedades observadas sobre o exemplo e pode ser referido como uma variável, um recurso ou um atributo.\n",
    "\n",
    "- Linha. Um único exemplo do domínio, geralmente chamado de instância, exemplo ou amostra em aprendizado de máquina.\n",
    "- Coluna. Uma única propriedade registrada para cada exemplo, geralmente chamada de variável, preditor ou recurso no aprendizado de máquina.\n",
    "\n",
    "Por exemplo, as colunas usadas para entrada do modelo são chamadas de variáveis de entrada, e a coluna que contém o alvo a ser previsto é chamada de variável de saída. O as linhas usadas para treinar um modelo são chamadas de conjunto de dados de treinamento e as linhas usadas para avaliar o modelo é chamado de conjunto de dados de teste.\n",
    "\n",
    "- Variáveis de entrada: Colunas do conjunto de dados fornecidas a um modelo para fazer uma previsão.\n",
    "- Variável de Saída: Coluna no conjunto de dados a ser prevista por um modelo.\n",
    "\n",
    "Ao coletar seus dados, talvez seja necessário transformá-los para formar uma grande tabela. Para Por exemplo, se você tiver seus dados em um banco de dados relacional, é comum representar entidades em tabelas separadas no que é chamado de formato normal para que a redundância seja minimizada. Em Para criar uma tabela grande com uma linha por assunto ou entidade que deseja modelar, você pode ser necessário reverter esse processo e introduzir redundância nos dados em um processo referido como desnormalização.\n",
    "\n",
    "Se seus dados estiverem em uma planilha ou banco de dados, é prática padrão extrair e salvar os dados em formato CSV. Esta é uma representação padrão que é portátil, bem compreendida e pronto para o processo de modelagem preditiva sem dependências externas. Agora que estamos familiarizado com dados estruturados, vamos ver por que precisamos preparar os dados antes de podermos usar isso em um modelo."
   ]
  },
  {
   "cell_type": "markdown",
   "metadata": {},
   "source": [
    "2.3 Os dados brutos devem ser preparados"
   ]
  },
  {
   "cell_type": "markdown",
   "metadata": {},
   "source": [
    "Os dados coletados do seu domínio são chamados de dados brutos e são coletados no contexto de um problema que você deseja resolver. Isso significa que você deve primeiro definir o que deseja prever e depois reúna os dados que você acha que o ajudarão a fazer melhores previsões. Esta coleta de dados o exercício geralmente requer um especialista no domínio e pode exigir muitas iterações para coletar mais dados, tanto em termos de novas linhas de dados assim que estiverem disponíveis, quanto de novas colunas uma vez identificadas provavelmente relevante para fazer uma previsão.\n",
    "\n",
    "- Dados brutos: Dados no formato fornecido pelo domínio.\n",
    "\n",
    "Em quase todos os casos, os dados brutos precisarão ser alterados antes que você possa usá-los como base para modelagem com aprendizado de máquina.\n",
    "\n",
    "Os casos sem preparação de dados são tão raros ou tão triviais que é praticamente uma regra prepare dados brutos em cada projeto de aprendizado de máquina. Existem três razões principais pelas quais você deve preparar dados brutos em um projeto de aprendizado de máquina. Vamos dar uma olhada em cada um deles."
   ]
  },
  {
   "cell_type": "markdown",
   "metadata": {},
   "source": [
    "2.3.1 Algoritmos de aprendizado de máquina esperam números"
   ]
  },
  {
   "cell_type": "markdown",
   "metadata": {},
   "source": [
    "Mesmo que seus dados sejam representados em uma grande tabela de linhas e colunas, as variáveis na tabela podem ter diferentes tipos de dados. Algumas variáveis podem ser numéricas, como números inteiros,\n",
    "\n",
    "valores de ponto flutuante, classificações, taxas, porcentagens e assim por diante. Outras variáveis podem ser nomes, categorias, ou rótulos representados com caracteres ou palavras, e alguns podem ser binários, representados com 0 e 1 ou Verdadeiro e Falso. O problema é que os algoritmos de aprendizado de máquina em sua essência operar com dados numéricos. Eles pegam números como entrada e prevêem um número como saída. Todos os dados são vistos como vetores e matrizes, usando a terminologia da álgebra linear.\n",
    "\n",
    "Como tal, os dados brutos devem ser alterados antes do treinamento, avaliação e uso do aprendizado de máquina modelos. Às vezes, as alterações nos dados podem ser gerenciadas internamente pelo aprendizado de máquina algoritmo; mais comumente, isso deve ser tratado pelo profissional de aprendizado de máquina antes de modelagem no que é comumente referido como preparação de dados ou pré-processamento de dados."
   ]
  },
  {
   "cell_type": "markdown",
   "metadata": {},
   "source": [
    "2.3.2 Algoritmos de aprendizado de máquina possuem requisitos"
   ]
  },
  {
   "cell_type": "markdown",
   "metadata": {},
   "source": [
    "Mesmo que seus dados brutos contenham apenas números, provavelmente será necessária alguma preparação de dados. Lá existem muitos algoritmos de aprendizado de máquina diferentes para escolher para uma determinada modelagem preditiva projeto. Não podemos saber qual algoritmo será apropriado, muito menos o mais apropriado para a nossa tarefa. Portanto, é uma boa prática avaliar um conjunto de diferentes algoritmos candidatos sistematicamente e descubra o que funciona bem ou melhor em nossos dados. O problema é que cada algoritmo tem requisitos ou expectativas específicas em relação aos dados.\n",
    "\n",
    "Por exemplo, alguns algoritmos assumem cada variável de entrada, e talvez a variável de destino, ter uma distribuição de probabilidade específica. Este é frequentemente o caso do aprendizado de máquina linear modelos que esperam que cada variável de entrada numérica tenha uma distribuição de probabilidade gaussiana. Isso significa que se você tiver variáveis de entrada que não sejam gaussianas ou quase gaussianas, você pode ser necessário alterá-los para que sejam gaussianos ou mais gaussianos. Alternativamente, pode encorajamos você a reconfigurar o algoritmo para ter uma expectativa diferente sobre os dados.\n",
    "\n",
    "Sabe-se que alguns algoritmos apresentam pior desempenho se houver variáveis de entrada irrelevantes ou redundante para a variável de destino. Existem também algoritmos que são impactados negativamente se duas ou mais variáveis de entrada são altamente correlacionadas. Nestes casos, informações irrelevantes ou altamente correlacionadas variáveis podem precisar ser identificadas e removidas, ou algoritmos alternativos podem precisar ser usados. Existem também algoritmos que possuem poucos requisitos sobre a distribuição de probabilidade de variáveis de entrada ou a presença de redundâncias, mas, por sua vez, podem exigir muito mais exemplos (linhas) para aprender como fazer boas previsões.\n",
    "\n",
    "Como tal, existe uma interação entre os dados e a escolha dos algoritmos. Principalmente, o algoritmos impõem expectativas sobre os dados, e a adesão a essas expectativas requer o dados sejam adequadamente preparados. Por outro lado, a forma dos dados pode fornecer informações sobre aqueles algoritmos que têm maior probabilidade de serem eficazes."
   ]
  },
  {
   "cell_type": "markdown",
   "metadata": {},
   "source": [
    "2.3.3 O desempenho do modelo depende dos dados"
   ]
  },
  {
   "cell_type": "markdown",
   "metadata": {},
   "source": [
    "Mesmo que você prepare seus dados para atender às expectativas de cada modelo, poderá não obter o resultado desejado. melhor performance. Freqüentemente, o desempenho de algoritmos de aprendizado de máquina que possuem fortes as expectativas degradam-se graciosamente na medida em que a expectativa é violada. Além disso, É comum que um algoritmo tenha um desempenho bom ou melhor que outros métodos, mesmo quando seu as expectativas foram ignoradas ou completamente violadas. É uma situação bastante comum que isso deve ser levado em consideração na preparação e avaliação de algoritmos de aprendizado de máquina.\n",
    "\n",
    "O desempenho de um algoritmo de aprendizado de máquina é tão bom quanto os dados usados para treiná-lo. Isso geralmente é resumido como lixo que entra, lixo que sai. O lixo é duro, mas pode significar um representação fraca do problema que captura insuficientemente a dinâmica necessária para aprender como mapear exemplos de entradas para saídas.\n",
    "\n",
    "Vamos presumir que temos dados suficientes para capturar a relação entre dados de entrada e variáveis de saída. É um princípio escorregadio e específico de domínio e, na prática, temos o ados que temos, e nosso trabalho é fazer o melhor que pudermos com esses dados. Um conjunto de dados pode ser um representação fraca do problema que estamos tentando resolver por muitas razões, embora haja duas classes principais de razão. Pode ser porque relações não lineares complexas são comprimidas nos dados brutos que podem ser descompactados usando técnicas de preparação de dados. Também pode ser porque os dados não são perfeitos, variando de moderadamente aleatórios flutuações nas observações, referidas como um ruído estatístico, a erros que resultam em valores fora da faixa e con dados.\n",
    "\n",
    "- Dados complexos: os dados brutos contêm relacionamentos não lineares complexos compactados que podem precisar ser expostos\n",
    "- Dados confusos: os dados brutos contêm ruído estatístico, erros, valores ausentes e exemplos conflitantes.\n",
    "\n",
    "Podemos pensar em tirar o máximo proveito do nosso projeto de modelagem preditiva de duas maneiras: concentre-se no modelo e concentre-se nos dados. Poderíamos preparar minimamente os dados brutos e começar modelagem. Isso coloca total responsabilidade sobre o modelo para descobrir as relações nos dados e aprender a função de mapeamento das entradas para as saídas da melhor maneira possível. Este pode ser um caminho razoável através de um projeto e pode exigir um grande conjunto de dados e um aprendizado de máquina flexível e poderoso algoritmo com poucas expectativas, como floresta aleatória ou aumento de gradiente.\n",
    "\n",
    "Alternativamente, poderíamos transferir o ônus de volta para os dados e para o processo de preparação de dados. Isto requer que cada linha de dados expresse melhor o conteúdo de informação dos dados para modelagem. Assim como a desnormalização de dados em um banco de dados relacional para linhas e colunas, os dados a preparação pode desnormalizar a estrutura complexa inerente a cada observação. Isso é também um caminho razoável. Pode exigir mais conhecimento dos dados do que o disponível, mas permite bom ou mesmo melhor desempenho de modelagem a ser alcançado quase independentemente da máquina algoritmo de aprendizagem usado.\n",
    "\n",
    "Freqüentemente, um equilíbrio entre essas abordagens é buscado em qualquer projeto. Isso é ambos explorando poderosos e algoritmos de aprendizado de máquina flexíveis e usando preparação de dados para melhor expor a estrutura dos dados aos algoritmos de aprendizagem. Isso tudo para dizer, pré-processamento de dados é um caminho para melhores dados e, por sua vez, melhor desempenho do modelo."
   ]
  },
  {
   "cell_type": "markdown",
   "metadata": {},
   "source": [
    "2.4 A modelagem preditiva consiste principalmente na preparação de dados"
   ]
  },
  {
   "cell_type": "markdown",
   "metadata": {},
   "source": [
    "Modelar dados com algoritmos de aprendizado de máquina tornou-se rotina. A grande maioria de os algoritmos de aprendizado de máquina comuns, populares e amplamente usados têm décadas. Linear a regressão tem mais de 100 anos. Ou seja, a maioria dos algoritmos são bem compreendidos e bem parametrizado e existem definições e implementações padrão disponíveis em formato aberto software de origem, como a biblioteca de aprendizado de máquina scikit-learn em Python.\n",
    "\n",
    "Embora os algoritmos sejam bem compreendidos operacionalmente, a maioria não possui teorias sobre por que funcionam ou como mapear algoritmos para problemas. É por isso que cada projeto de modelagem preditiva é empírico e não teórico, exigindo um processo de análise sistemática. experimentação de algoritmos em dados. Dado que algoritmos de aprendizado de máquina são rotineiros para na maior parte, a única coisa que muda de projeto para projeto são os dados específicos usados em a modelagem.\n",
    "\n",
    "Se você coletou dados para um problema de modelagem preditiva de classificação ou regressão, pode ser a primeira vez, em toda a história, que o problema foi modelado. Você é abrindo novos caminhos. Isto não quer dizer que esta classe de problemas não tenha sido abordada antes; provavelmente sim e você poderá aprender com o que foi encontrado se os resultados forem publicados. Mas é hoje que sua coleção específica de observações torna seu problema de modelagem preditiva único. Como assim, a maior parte do seu projeto será gasta em dados. Coletando dados, verificando dados, limpeza de dados, visualização de dados, transformação de dados e assim por diante.\n",
    "\n",
    "Seu trabalho é descobrir a melhor forma de expor os algoritmos de aprendizagem ao desconhecido subjacente. estrutura do seu problema de previsão. O caminho para chegar lá é através da preparação de dados. Em Para ser um profissional eficaz de aprendizado de máquina, você deve saber:\n",
    "\n",
    "- Os diferentes tipos de preparação de dados a considerar num projeto.\n",
    "- Os principais algoritmos para cada classe de técnica de preparação de dados.\n",
    "- Quando usar e como configurar as melhores técnicas de preparação de dados.\n",
    "\n",
    "Muitas vezes, esse é um conhecimento adquirido com dificuldade, pois há poucos recursos dedicados ao tema. Em vez disso, muitas vezes você deve vasculhar a literatura em busca de artigos para ter uma ideia do que está disponível e como use-o."
   ]
  },
  {
   "cell_type": "markdown",
   "metadata": {},
   "source": [
    "2.5 Resumo"
   ]
  },
  {
   "cell_type": "markdown",
   "metadata": {},
   "source": [
    "Neste tutorial, você descobriu a importância da preparação de dados para cada aprendizado de máquina projeto. Especificamente, você aprendeu:\n",
    "\n",
    "- Os dados estruturados em aprendizado de máquina consistem em linhas e colunas.\n",
    "- A preparação de dados é uma etapa obrigatória em cada projeto de aprendizado de máquina.\n",
    "- A rotina dos algoritmos de aprendizado de máquina significa que a maior parte do esforço de cada projeto é gasta na preparação de dados."
   ]
  }
 ],
 "metadata": {
  "language_info": {
   "name": "python"
  },
  "orig_nbformat": 4
 },
 "nbformat": 4,
 "nbformat_minor": 2
}
